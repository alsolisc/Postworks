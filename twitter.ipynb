{
  "nbformat": 4,
  "nbformat_minor": 0,
  "metadata": {
    "colab": {
      "provenance": [],
      "mount_file_id": "1VlekydbcDD9qqX2-ZapKgbQlVKUDjx9h",
      "authorship_tag": "ABX9TyOT8VJyM5mwQq5Jw7xHDgW2",
      "include_colab_link": true
    },
    "kernelspec": {
      "name": "python3",
      "display_name": "Python 3"
    },
    "language_info": {
      "name": "python"
    }
  },
  "cells": [
    {
      "cell_type": "markdown",
      "metadata": {
        "id": "view-in-github",
        "colab_type": "text"
      },
      "source": [
        "<a href=\"https://colab.research.google.com/github/alsolisc/Postworks/blob/main/twitter.ipynb\" target=\"_parent\"><img src=\"https://colab.research.google.com/assets/colab-badge.svg\" alt=\"Open In Colab\"/></a>"
      ]
    },
    {
      "cell_type": "code",
      "execution_count": 7,
      "metadata": {
        "id": "j40UIXaNtSoW"
      },
      "outputs": [],
      "source": [
        "#pip install tweepy --upgrade tweepy\n",
        "# import tweepy\n",
        "import tweepy as tw\n",
        "import pandas as pd"
      ]
    },
    {
      "cell_type": "code",
      "source": [
        "\n",
        "# your Twitter API key and API secret\n",
        "my_api_key = \"n1iOpre7at4teVMOJPWEGveqM\"\n",
        "my_api_secret = \"2tIls2NpJqMFbyKsr93Hwjq689vv1CvBio9cZitwmtDcdL4ASZ\"\n",
        "# authenticate\n",
        "auth = tw.OAuthHandler(my_api_key, my_api_secret)\n",
        "api = tw.API(auth, wait_on_rate_limit=True)\n"
      ],
      "metadata": {
        "id": "uirkvGEEtZDc"
      },
      "execution_count": 15,
      "outputs": []
    },
    {
      "cell_type": "code",
      "source": [
        "query = \"noticias politica -is:retweet\"\n",
        "# get tweets from the API\n",
        "tweets = tw.Cursor(api.search,\n",
        "              q=query,\n",
        "              lang=\"es\",\n",
        "               place_country=\"MX\",\n",
        "              since=\"2023-01-01\").items(5000)\n",
        "# store the API responses in a list\n",
        "tweets_copy = []\n",
        "for tweet in tweets:\n",
        "    tweets_copy.append(tweet)\n",
        "    \n",
        "print(\"Total Tweets fetched:\", len(tweets_copy))"
      ],
      "metadata": {
        "colab": {
          "base_uri": "https://localhost:8080/"
        },
        "id": "TNQrg5PIyTRQ",
        "outputId": "a0ec121e-c7da-4724-9bb1-5f45a739b2bc"
      },
      "execution_count": 16,
      "outputs": [
        {
          "output_type": "stream",
          "name": "stdout",
          "text": [
            "Total Tweets fetched: 5000\n"
          ]
        }
      ]
    },
    {
      "cell_type": "code",
      "source": [
        "# intialize the dataframe\n",
        "tweets_df = pd.DataFrame()\n",
        "# populate the dataframe\n",
        "for tweet in tweets_copy:\n",
        "    hashtags = []\n",
        "    try:\n",
        "        for hashtag in tweet.entities[\"hashtags\"]:\n",
        "            hashtags.append(hashtag[\"text\"])\n",
        "        text = api.get_status(id=tweet.id, tweet_mode='extended').full_text\n",
        "    except:\n",
        "        pass\n",
        "    tweets_df = tweets_df.append(pd.DataFrame({'user_name': tweet.user.name, \n",
        "                                               'user_location': tweet.user.location,\\\n",
        "                                               'user_description': tweet.user.description,\n",
        "                                               'user_verified': tweet.user.verified,\n",
        "                                               'date': tweet.created_at,\n",
        "                                               'text': text, \n",
        "                                               'hashtags': [hashtags if hashtags else None],\n",
        "                                               'source': tweet.source}))\n",
        "    tweets_df = tweets_df.reset_index(drop=True)\n",
        "# show the dataframe\n",
        "tweets_df.head()"
      ],
      "metadata": {
        "id": "m7WaQz-puIyY"
      },
      "execution_count": null,
      "outputs": []
    },
    {
      "cell_type": "code",
      "source": [
        "##from google.colab import files\n",
        "##tweets_df.info()\n",
        "##tweets_df.to_csv('output.csv', encoding = 'utf-8-sig') \n",
        "##files.download('output.csv')"
      ],
      "metadata": {
        "id": "ynkeWRIOySNc"
      },
      "execution_count": null,
      "outputs": []
    },
    {
      "cell_type": "code",
      "source": [
        "from google.colab import drive\n",
        "drive.mount('/content/drive')\n",
        "path = '/content/drive/MyDrive/Colab Notebooks/Tweets.csv'\n",
        "with open(path, 'w', encoding = 'utf-8-sig') as f:\n",
        "  tweets_df.to_csv(f)"
      ],
      "metadata": {
        "id": "B9IW91vmvDz8",
        "colab": {
          "base_uri": "https://localhost:8080/"
        },
        "outputId": "8faa06a8-f158-4378-f602-d7c41975fad6"
      },
      "execution_count": null,
      "outputs": [
        {
          "output_type": "stream",
          "name": "stdout",
          "text": [
            "Drive already mounted at /content/drive; to attempt to forcibly remount, call drive.mount(\"/content/drive\", force_remount=True).\n"
          ]
        }
      ]
    },
    {
      "cell_type": "code",
      "source": [
        "tweet=pd.read_csv('/content/drive/MyDrive/Colab Notebooks/Tweets.csv')"
      ],
      "metadata": {
        "id": "L20xIA-oxe5U"
      },
      "execution_count": 9,
      "outputs": []
    },
    {
      "cell_type": "code",
      "source": [
        "tweet.head()\n",
        "tweet.info()"
      ],
      "metadata": {
        "colab": {
          "base_uri": "https://localhost:8080/"
        },
        "id": "ssErB1jnjXRC",
        "outputId": "8ed8ef3b-8d15-4354-a692-2c74417bf0f6"
      },
      "execution_count": 11,
      "outputs": [
        {
          "output_type": "stream",
          "name": "stdout",
          "text": [
            "<class 'pandas.core.frame.DataFrame'>\n",
            "RangeIndex: 500 entries, 0 to 499\n",
            "Data columns (total 9 columns):\n",
            " #   Column            Non-Null Count  Dtype \n",
            "---  ------            --------------  ----- \n",
            " 0   Unnamed: 0        500 non-null    int64 \n",
            " 1   user_name         500 non-null    object\n",
            " 2   user_location     283 non-null    object\n",
            " 3   user_description  349 non-null    object\n",
            " 4   user_verified     500 non-null    bool  \n",
            " 5   date              500 non-null    object\n",
            " 6   text              500 non-null    object\n",
            " 7   hashtags          78 non-null     object\n",
            " 8   source            500 non-null    object\n",
            "dtypes: bool(1), int64(1), object(7)\n",
            "memory usage: 31.9+ KB\n"
          ]
        }
      ]
    },
    {
      "cell_type": "code",
      "source": [
        "tweets=tweet.dropna()\n",
        "tweets.info()"
      ],
      "metadata": {
        "colab": {
          "base_uri": "https://localhost:8080/"
        },
        "id": "_K1WJlpTQmf1",
        "outputId": "e456f537-d3f2-42c6-f0d6-ca16bf8832ff"
      },
      "execution_count": 14,
      "outputs": [
        {
          "output_type": "stream",
          "name": "stdout",
          "text": [
            "<class 'pandas.core.frame.DataFrame'>\n",
            "Int64Index: 45 entries, 22 to 487\n",
            "Data columns (total 9 columns):\n",
            " #   Column            Non-Null Count  Dtype \n",
            "---  ------            --------------  ----- \n",
            " 0   Unnamed: 0        45 non-null     int64 \n",
            " 1   user_name         45 non-null     object\n",
            " 2   user_location     45 non-null     object\n",
            " 3   user_description  45 non-null     object\n",
            " 4   user_verified     45 non-null     bool  \n",
            " 5   date              45 non-null     object\n",
            " 6   text              45 non-null     object\n",
            " 7   hashtags          45 non-null     object\n",
            " 8   source            45 non-null     object\n",
            "dtypes: bool(1), int64(1), object(7)\n",
            "memory usage: 3.2+ KB\n"
          ]
        }
      ]
    },
    {
      "cell_type": "code",
      "source": [],
      "metadata": {
        "id": "Kx5GbrcMW5U2"
      },
      "execution_count": null,
      "outputs": []
    }
  ]
}